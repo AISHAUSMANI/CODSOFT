{
 "cells": [
  {
   "cell_type": "code",
   "execution_count": 1,
   "id": "77b59808-5505-4778-bef5-1ed545dbd093",
   "metadata": {},
   "outputs": [],
   "source": [
    "# for addition\n",
    "def addition(x,y):\n",
    "    return x+y\n",
    "\n",
    "# for subtraction\n",
    "def subtraction(x,y):\n",
    "    return x-y\n",
    "\n",
    "# for multiplacation\n",
    "def multiplacation(x,y):\n",
    "    return x*y\n",
    "\n",
    "# for division\n",
    "def division(x,y):\n",
    "    return x/y\n",
    "\n",
    "# for reminder\n",
    "def reminder(x,y):\n",
    "    return x%y\n",
    "    "
   ]
  },
  {
   "cell_type": "code",
   "execution_count": 6,
   "id": "eef484ea-749e-4166-9095-3c6089c54019",
   "metadata": {},
   "outputs": [
    {
     "data": {
      "text/plain": [
       "10"
      ]
     },
     "execution_count": 6,
     "metadata": {},
     "output_type": "execute_result"
    }
   ],
   "source": [
    "def addition(x,y):\n",
    "    return x + y\n",
    "addition(5,5)"
   ]
  },
  {
   "cell_type": "code",
   "execution_count": 1,
   "id": "40b1d3fd-cc43-472e-b8bd-c9d041fdf6c4",
   "metadata": {},
   "outputs": [
    {
     "data": {
      "text/plain": [
       "5"
      ]
     },
     "execution_count": 1,
     "metadata": {},
     "output_type": "execute_result"
    }
   ],
   "source": [
    "def subtraction(x,y):\n",
    "    return x-y\n",
    "subtraction(10,5)"
   ]
  },
  {
   "cell_type": "code",
   "execution_count": 2,
   "id": "f513020a-d422-4b9f-8e8a-d084604d52d0",
   "metadata": {},
   "outputs": [
    {
     "data": {
      "text/plain": [
       "20"
      ]
     },
     "execution_count": 2,
     "metadata": {},
     "output_type": "execute_result"
    }
   ],
   "source": [
    "def multiplication(x,y):\n",
    "    return x*y\n",
    "multiplication(10,2)"
   ]
  },
  {
   "cell_type": "code",
   "execution_count": 4,
   "id": "cfcf876a-41d0-46f8-b246-c371551c05d7",
   "metadata": {},
   "outputs": [
    {
     "data": {
      "text/plain": [
       "5.0"
      ]
     },
     "execution_count": 4,
     "metadata": {},
     "output_type": "execute_result"
    }
   ],
   "source": [
    "def division(x,y):\n",
    "    return x/y\n",
    "division(15,3)"
   ]
  },
  {
   "cell_type": "code",
   "execution_count": 5,
   "id": "a30f1dfd-6a55-4e56-af1d-222abd38c67c",
   "metadata": {},
   "outputs": [
    {
     "data": {
      "text/plain": [
       "0"
      ]
     },
     "execution_count": 5,
     "metadata": {},
     "output_type": "execute_result"
    }
   ],
   "source": [
    "def reminder(x,y):\n",
    "    return x%y\n",
    "reminder(10,5)"
   ]
  },
  {
   "cell_type": "code",
   "execution_count": null,
   "id": "92e896cc-b37a-437a-ae4d-c4052595b015",
   "metadata": {},
   "outputs": [],
   "source": []
  }
 ],
 "metadata": {
  "kernelspec": {
   "display_name": "Python 3 (ipykernel)",
   "language": "python",
   "name": "python3"
  },
  "language_info": {
   "codemirror_mode": {
    "name": "ipython",
    "version": 3
   },
   "file_extension": ".py",
   "mimetype": "text/x-python",
   "name": "python",
   "nbconvert_exporter": "python",
   "pygments_lexer": "ipython3",
   "version": "3.11.7"
  }
 },
 "nbformat": 4,
 "nbformat_minor": 5
}
