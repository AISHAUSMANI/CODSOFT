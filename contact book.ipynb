{
 "cells": [
  {
   "cell_type": "code",
   "execution_count": 7,
   "id": "53366426-4701-4851-80db-e9de00594bac",
   "metadata": {},
   "outputs": [],
   "source": [
    "import sys\n",
    "from PyQt5.QtWidgets import QApplication, QMainWindow, QLabel, QLineEdit, QPushButton, QVBoxLayout, QWidget\n",
    "\n",
    "class ContactBookApp(QMainWindow):\n",
    "    def _init_(self):\n",
    "        super()._init_()\n",
    "        self.setWindowTitle(\"Contact Book\")\n",
    "        self.setGeometry(100, 100, 400, 300)\n",
    "\n",
    "        # Create widgets\n",
    "        self.label_name = QLabel(\"Name:\")\n",
    "        self.text_name = QLineEdit()\n",
    "        self.label_phone = QLabel(\"Phone:\")\n",
    "        self.text_phone = QLineEdit()\n",
    "        self.btn_add_contact = QPushButton(\"Add Contact\")\n",
    "        self.label_display = QLabel()\n",
    "\n",
    "        # Layout\n",
    "        layout = QVBoxLayout()\n",
    "        layout.addWidget(self.label_name)\n",
    "        layout.addWidget(self.text_name)\n",
    "        layout.addWidget(self.label_phone)\n",
    "        layout.addWidget(self.text_phone)\n",
    "        layout.addWidget(self.btn_add_contact)\n",
    "        layout.addWidget(self.label_display)\n",
    "\n",
    "        central_widget = QWidget()\n",
    "        central_widget.setLayout(layout)\n",
    "        self.setCentralWidget(central_widget)\n",
    "\n",
    "        # Connect button click to function\n",
    "        self.btn_add_contact.clicked.connect(self.add_contact)\n",
    "\n",
    "        # Initialize contact list (you can use an SQLite database here)\n",
    "        self.contacts = []\n",
    "\n",
    "    def add_contact(self):\n",
    "        name = self.text_name.text()\n",
    "        phone = self.text_phone.text()\n",
    "        self.contacts.append((name, phone))\n",
    "        self.display_contacts()\n",
    "\n",
    "    def display_contacts(self):\n",
    "        contact_text = \"\\n\".join(f\"{name}: {phone}\" for name, phone in self.contacts)\n",
    "        self.label_display.setText(contact_text)\n",
    "        \n",
    "    if '_name_' == \"_main_\":\n",
    "        app = QApplication(sys.argv)\n",
    "        window = ContactBookApp()\n",
    "        window.show()\n",
    "        sys.exit(app.exec_())\n"
   ]
  },
  {
   "cell_type": "code",
   "execution_count": null,
   "id": "fb5e37ba-d226-4d3b-93f3-797fdbd389d9",
   "metadata": {},
   "outputs": [],
   "source": []
  },
  {
   "cell_type": "code",
   "execution_count": null,
   "id": "5690630c-bdf1-4274-92c4-7e53d93d6a12",
   "metadata": {},
   "outputs": [],
   "source": []
  }
 ],
 "metadata": {
  "kernelspec": {
   "display_name": "Python 3 (ipykernel)",
   "language": "python",
   "name": "python3"
  },
  "language_info": {
   "codemirror_mode": {
    "name": "ipython",
    "version": 3
   },
   "file_extension": ".py",
   "mimetype": "text/x-python",
   "name": "python",
   "nbconvert_exporter": "python",
   "pygments_lexer": "ipython3",
   "version": "3.11.7"
  }
 },
 "nbformat": 4,
 "nbformat_minor": 5
}
