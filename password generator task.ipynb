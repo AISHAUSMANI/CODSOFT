{
 "cells": [
  {
   "cell_type": "code",
   "execution_count": 16,
   "id": "94a1af60-bfbf-4a7a-973d-052b23ec07fb",
   "metadata": {},
   "outputs": [
    {
     "name": "stdout",
     "output_type": "stream",
     "text": [
      "TiU1(JIQHrCU\n"
     ]
    }
   ],
   "source": [
    "#necessory imports\n",
    "import secrets\n",
    "import string\n",
    "\n",
    "#define the alphabet\n",
    "letters = string.ascii_letters\n",
    "digits = string.digits\n",
    "special_chars = string.punctuation\n",
    "\n",
    "alphabet = letters + digits + special_chars\n",
    "\n",
    "#fix password length\n",
    "pwd_length = 12\n",
    "\n",
    "#generate a password string\n",
    "pwd =\"\"\n",
    "for i in range (pwd_length):\n",
    "    pwd +=\"\".join(secrets.choice(alphabet))\n",
    "\n",
    "print(pwd)\n",
    "\n",
    "#generate password meeting constraints \n",
    "while True:\n",
    "    pwd = \"\"\n",
    "    for i in range(pwd_length):\n",
    "        pwd +=\"\".join(secrets.choice(alphabet))\n",
    "\n",
    "    if(any(char in special_chars for char in pwd)\n",
    "    and\n",
    "       sum(char in digits for char in pwd)>=2):\n",
    "        break\n",
    "    print(pwd)"
   ]
  }
 ],
 "metadata": {
  "kernelspec": {
   "display_name": "Python 3 (ipykernel)",
   "language": "python",
   "name": "python3"
  },
  "language_info": {
   "codemirror_mode": {
    "name": "ipython",
    "version": 3
   },
   "file_extension": ".py",
   "mimetype": "text/x-python",
   "name": "python",
   "nbconvert_exporter": "python",
   "pygments_lexer": "ipython3",
   "version": "3.11.7"
  }
 },
 "nbformat": 4,
 "nbformat_minor": 5
}
